{
 "cells": [
  {
   "cell_type": "markdown",
   "metadata": {},
   "source": [
    "# Performance Analysis"
   ]
  },
  {
   "cell_type": "code",
   "execution_count": 11,
   "metadata": {
    "collapsed": false
   },
   "outputs": [
    {
     "name": "stderr",
     "output_type": "stream",
     "text": [
      "Using TensorFlow backend.\n"
     ]
    }
   ],
   "source": [
    "import sys\n",
    "import pandas as pd\n",
    "import numpy as np\n",
    "import pickle as pkl\n",
    "from keras.models import load_model"
   ]
  },
  {
   "cell_type": "code",
   "execution_count": 6,
   "metadata": {
    "collapsed": false
   },
   "outputs": [
    {
     "data": {
      "text/html": [
       "<div>\n",
       "<style scoped>\n",
       "    .dataframe tbody tr th:only-of-type {\n",
       "        vertical-align: middle;\n",
       "    }\n",
       "\n",
       "    .dataframe tbody tr th {\n",
       "        vertical-align: top;\n",
       "    }\n",
       "\n",
       "    .dataframe thead th {\n",
       "        text-align: right;\n",
       "    }\n",
       "</style>\n",
       "<table border=\"1\" class=\"dataframe\">\n",
       "  <thead>\n",
       "    <tr style=\"text-align: right;\">\n",
       "      <th></th>\n",
       "      <th>Unnamed: 0</th>\n",
       "      <th>DOSE_0.01</th>\n",
       "      <th>DOSE_0.04</th>\n",
       "      <th>DOSE_0.12</th>\n",
       "      <th>DOSE_0.37</th>\n",
       "      <th>DOSE_1.11</th>\n",
       "      <th>DOSE_10.00</th>\n",
       "      <th>DOSE_3.33</th>\n",
       "      <th>b</th>\n",
       "      <th>b0</th>\n",
       "      <th>b1</th>\n",
       "      <th>m</th>\n",
       "      <th>s</th>\n",
       "      <th>t</th>\n",
       "      <th>id</th>\n",
       "    </tr>\n",
       "  </thead>\n",
       "  <tbody>\n",
       "    <tr>\n",
       "      <th>0</th>\n",
       "      <td>0</td>\n",
       "      <td>0.150153</td>\n",
       "      <td>0.243241</td>\n",
       "      <td>0.329830</td>\n",
       "      <td>0.425266</td>\n",
       "      <td>0.496612</td>\n",
       "      <td>0.670741</td>\n",
       "      <td>0.592739</td>\n",
       "      <td>0.496722</td>\n",
       "      <td>-9.760517</td>\n",
       "      <td>-2.532822</td>\n",
       "      <td>0.183198</td>\n",
       "      <td>0.01</td>\n",
       "      <td>0.002966</td>\n",
       "      <td>MT19937_13:19:00.345293_1</td>\n",
       "    </tr>\n",
       "    <tr>\n",
       "      <th>1</th>\n",
       "      <td>1</td>\n",
       "      <td>0.996433</td>\n",
       "      <td>1.002511</td>\n",
       "      <td>1.019785</td>\n",
       "      <td>0.987595</td>\n",
       "      <td>0.991855</td>\n",
       "      <td>1.002127</td>\n",
       "      <td>0.983343</td>\n",
       "      <td>1.772664</td>\n",
       "      <td>-9.410662</td>\n",
       "      <td>-9.082224</td>\n",
       "      <td>0.413241</td>\n",
       "      <td>0.01</td>\n",
       "      <td>0.013459</td>\n",
       "      <td>MT19937_13:19:00.348284_1</td>\n",
       "    </tr>\n",
       "    <tr>\n",
       "      <th>2</th>\n",
       "      <td>2</td>\n",
       "      <td>0.981045</td>\n",
       "      <td>1.007139</td>\n",
       "      <td>1.005609</td>\n",
       "      <td>1.002811</td>\n",
       "      <td>0.994674</td>\n",
       "      <td>0.979080</td>\n",
       "      <td>0.999117</td>\n",
       "      <td>1.354451</td>\n",
       "      <td>-9.398303</td>\n",
       "      <td>-6.743288</td>\n",
       "      <td>0.238254</td>\n",
       "      <td>0.01</td>\n",
       "      <td>0.016642</td>\n",
       "      <td>MT19937_13:19:00.350284_1</td>\n",
       "    </tr>\n",
       "    <tr>\n",
       "      <th>3</th>\n",
       "      <td>3</td>\n",
       "      <td>0.597191</td>\n",
       "      <td>0.099056</td>\n",
       "      <td>0.006038</td>\n",
       "      <td>-0.009737</td>\n",
       "      <td>-0.005055</td>\n",
       "      <td>0.161535</td>\n",
       "      <td>0.055578</td>\n",
       "      <td>-0.088353</td>\n",
       "      <td>-9.657438</td>\n",
       "      <td>-5.380044</td>\n",
       "      <td>0.261087</td>\n",
       "      <td>0.01</td>\n",
       "      <td>2.179940</td>\n",
       "      <td>MT19937_13:19:00.352287_1</td>\n",
       "    </tr>\n",
       "    <tr>\n",
       "      <th>4</th>\n",
       "      <td>4</td>\n",
       "      <td>0.016797</td>\n",
       "      <td>-0.004381</td>\n",
       "      <td>0.155710</td>\n",
       "      <td>0.392913</td>\n",
       "      <td>0.610635</td>\n",
       "      <td>0.994118</td>\n",
       "      <td>0.837154</td>\n",
       "      <td>0.586768</td>\n",
       "      <td>-7.410052</td>\n",
       "      <td>-0.409821</td>\n",
       "      <td>0.488751</td>\n",
       "      <td>0.01</td>\n",
       "      <td>0.063310</td>\n",
       "      <td>MT19937_13:19:00.354282_1</td>\n",
       "    </tr>\n",
       "  </tbody>\n",
       "</table>\n",
       "</div>"
      ],
      "text/plain": [
       "   Unnamed: 0  DOSE_0.01  DOSE_0.04  DOSE_0.12  DOSE_0.37  DOSE_1.11  \\\n",
       "0           0   0.150153   0.243241   0.329830   0.425266   0.496612   \n",
       "1           1   0.996433   1.002511   1.019785   0.987595   0.991855   \n",
       "2           2   0.981045   1.007139   1.005609   1.002811   0.994674   \n",
       "3           3   0.597191   0.099056   0.006038  -0.009737  -0.005055   \n",
       "4           4   0.016797  -0.004381   0.155710   0.392913   0.610635   \n",
       "\n",
       "   DOSE_10.00  DOSE_3.33         b        b0        b1         m     s  \\\n",
       "0    0.670741   0.592739  0.496722 -9.760517 -2.532822  0.183198  0.01   \n",
       "1    1.002127   0.983343  1.772664 -9.410662 -9.082224  0.413241  0.01   \n",
       "2    0.979080   0.999117  1.354451 -9.398303 -6.743288  0.238254  0.01   \n",
       "3    0.161535   0.055578 -0.088353 -9.657438 -5.380044  0.261087  0.01   \n",
       "4    0.994118   0.837154  0.586768 -7.410052 -0.409821  0.488751  0.01   \n",
       "\n",
       "          t                         id  \n",
       "0  0.002966  MT19937_13:19:00.345293_1  \n",
       "1  0.013459  MT19937_13:19:00.348284_1  \n",
       "2  0.016642  MT19937_13:19:00.350284_1  \n",
       "3  2.179940  MT19937_13:19:00.352287_1  \n",
       "4  0.063310  MT19937_13:19:00.354282_1  "
      ]
     },
     "execution_count": 6,
     "metadata": {},
     "output_type": "execute_result"
    }
   ],
   "source": [
    "data = pd.read_csv('../data/performance_analysis_set.csv')\n",
    "data.head()"
   ]
  },
  {
   "cell_type": "code",
   "execution_count": 9,
   "metadata": {
    "collapsed": false
   },
   "outputs": [],
   "source": [
    "dose_names = ['DOSE_0.01', 'DOSE_0.04','DOSE_0.12','DOSE_0.37','DOSE_1.11','DOSE_3.33','DOSE_10.00']\n",
    "x = data[dose_names].values"
   ]
  },
  {
   "cell_type": "code",
   "execution_count": 13,
   "metadata": {
    "collapsed": false
   },
   "outputs": [],
   "source": [
    "model = load_model('./../best_model/best_model.159-55.24.h5')"
   ]
  },
  {
   "cell_type": "code",
   "execution_count": 17,
   "metadata": {
    "collapsed": false
   },
   "outputs": [
    {
     "data": {
      "text/plain": [
       "(180010, 1)"
      ]
     },
     "execution_count": 17,
     "metadata": {},
     "output_type": "execute_result"
    }
   ],
   "source": [
    "model.predict(x).shape"
   ]
  },
  {
   "cell_type": "code",
   "execution_count": 18,
   "metadata": {
    "collapsed": false
   },
   "outputs": [],
   "source": [
    "Yhat = pd.DataFrame({'yhat':model.predict(x).ravel()})"
   ]
  },
  {
   "cell_type": "code",
   "execution_count": 19,
   "metadata": {
    "collapsed": false
   },
   "outputs": [
    {
     "name": "stderr",
     "output_type": "stream",
     "text": [
      "C:\\Anaconda3\\lib\\site-packages\\ipykernel_launcher.py:1: FutureWarning: Sorting because non-concatenation axis is not aligned. A future version\n",
      "of pandas will change to not sort by default.\n",
      "\n",
      "To accept the future behavior, pass 'sort=False'.\n",
      "\n",
      "To retain the current behavior and silence the warning, pass 'sort=True'.\n",
      "\n",
      "  \"\"\"Entry point for launching an IPython kernel.\n"
     ]
    },
    {
     "data": {
      "text/html": [
       "<div>\n",
       "<style scoped>\n",
       "    .dataframe tbody tr th:only-of-type {\n",
       "        vertical-align: middle;\n",
       "    }\n",
       "\n",
       "    .dataframe tbody tr th {\n",
       "        vertical-align: top;\n",
       "    }\n",
       "\n",
       "    .dataframe thead th {\n",
       "        text-align: right;\n",
       "    }\n",
       "</style>\n",
       "<table border=\"1\" class=\"dataframe\">\n",
       "  <thead>\n",
       "    <tr style=\"text-align: right;\">\n",
       "      <th></th>\n",
       "      <th>DOSE_0.01</th>\n",
       "      <th>DOSE_0.04</th>\n",
       "      <th>DOSE_0.12</th>\n",
       "      <th>DOSE_0.37</th>\n",
       "      <th>DOSE_1.11</th>\n",
       "      <th>DOSE_10.00</th>\n",
       "      <th>DOSE_3.33</th>\n",
       "      <th>Unnamed: 0</th>\n",
       "      <th>b</th>\n",
       "      <th>b0</th>\n",
       "      <th>b1</th>\n",
       "      <th>id</th>\n",
       "      <th>m</th>\n",
       "      <th>s</th>\n",
       "      <th>t</th>\n",
       "      <th>yhat</th>\n",
       "    </tr>\n",
       "  </thead>\n",
       "  <tbody>\n",
       "    <tr>\n",
       "      <th>0</th>\n",
       "      <td>0.150153</td>\n",
       "      <td>0.243241</td>\n",
       "      <td>0.329830</td>\n",
       "      <td>0.425266</td>\n",
       "      <td>0.496612</td>\n",
       "      <td>0.670741</td>\n",
       "      <td>0.592739</td>\n",
       "      <td>0.0</td>\n",
       "      <td>0.496722</td>\n",
       "      <td>-9.760517</td>\n",
       "      <td>-2.532822</td>\n",
       "      <td>MT19937_13:19:00.345293_1</td>\n",
       "      <td>0.183198</td>\n",
       "      <td>0.01</td>\n",
       "      <td>0.002966</td>\n",
       "      <td>NaN</td>\n",
       "    </tr>\n",
       "    <tr>\n",
       "      <th>1</th>\n",
       "      <td>0.996433</td>\n",
       "      <td>1.002511</td>\n",
       "      <td>1.019785</td>\n",
       "      <td>0.987595</td>\n",
       "      <td>0.991855</td>\n",
       "      <td>1.002127</td>\n",
       "      <td>0.983343</td>\n",
       "      <td>1.0</td>\n",
       "      <td>1.772664</td>\n",
       "      <td>-9.410662</td>\n",
       "      <td>-9.082224</td>\n",
       "      <td>MT19937_13:19:00.348284_1</td>\n",
       "      <td>0.413241</td>\n",
       "      <td>0.01</td>\n",
       "      <td>0.013459</td>\n",
       "      <td>NaN</td>\n",
       "    </tr>\n",
       "    <tr>\n",
       "      <th>2</th>\n",
       "      <td>0.981045</td>\n",
       "      <td>1.007139</td>\n",
       "      <td>1.005609</td>\n",
       "      <td>1.002811</td>\n",
       "      <td>0.994674</td>\n",
       "      <td>0.979080</td>\n",
       "      <td>0.999117</td>\n",
       "      <td>2.0</td>\n",
       "      <td>1.354451</td>\n",
       "      <td>-9.398303</td>\n",
       "      <td>-6.743288</td>\n",
       "      <td>MT19937_13:19:00.350284_1</td>\n",
       "      <td>0.238254</td>\n",
       "      <td>0.01</td>\n",
       "      <td>0.016642</td>\n",
       "      <td>NaN</td>\n",
       "    </tr>\n",
       "    <tr>\n",
       "      <th>3</th>\n",
       "      <td>0.597191</td>\n",
       "      <td>0.099056</td>\n",
       "      <td>0.006038</td>\n",
       "      <td>-0.009737</td>\n",
       "      <td>-0.005055</td>\n",
       "      <td>0.161535</td>\n",
       "      <td>0.055578</td>\n",
       "      <td>3.0</td>\n",
       "      <td>-0.088353</td>\n",
       "      <td>-9.657438</td>\n",
       "      <td>-5.380044</td>\n",
       "      <td>MT19937_13:19:00.352287_1</td>\n",
       "      <td>0.261087</td>\n",
       "      <td>0.01</td>\n",
       "      <td>2.179940</td>\n",
       "      <td>NaN</td>\n",
       "    </tr>\n",
       "    <tr>\n",
       "      <th>4</th>\n",
       "      <td>0.016797</td>\n",
       "      <td>-0.004381</td>\n",
       "      <td>0.155710</td>\n",
       "      <td>0.392913</td>\n",
       "      <td>0.610635</td>\n",
       "      <td>0.994118</td>\n",
       "      <td>0.837154</td>\n",
       "      <td>4.0</td>\n",
       "      <td>0.586768</td>\n",
       "      <td>-7.410052</td>\n",
       "      <td>-0.409821</td>\n",
       "      <td>MT19937_13:19:00.354282_1</td>\n",
       "      <td>0.488751</td>\n",
       "      <td>0.01</td>\n",
       "      <td>0.063310</td>\n",
       "      <td>NaN</td>\n",
       "    </tr>\n",
       "  </tbody>\n",
       "</table>\n",
       "</div>"
      ],
      "text/plain": [
       "   DOSE_0.01  DOSE_0.04  DOSE_0.12  DOSE_0.37  DOSE_1.11  DOSE_10.00  \\\n",
       "0   0.150153   0.243241   0.329830   0.425266   0.496612    0.670741   \n",
       "1   0.996433   1.002511   1.019785   0.987595   0.991855    1.002127   \n",
       "2   0.981045   1.007139   1.005609   1.002811   0.994674    0.979080   \n",
       "3   0.597191   0.099056   0.006038  -0.009737  -0.005055    0.161535   \n",
       "4   0.016797  -0.004381   0.155710   0.392913   0.610635    0.994118   \n",
       "\n",
       "   DOSE_3.33  Unnamed: 0         b        b0        b1  \\\n",
       "0   0.592739         0.0  0.496722 -9.760517 -2.532822   \n",
       "1   0.983343         1.0  1.772664 -9.410662 -9.082224   \n",
       "2   0.999117         2.0  1.354451 -9.398303 -6.743288   \n",
       "3   0.055578         3.0 -0.088353 -9.657438 -5.380044   \n",
       "4   0.837154         4.0  0.586768 -7.410052 -0.409821   \n",
       "\n",
       "                          id         m     s         t  yhat  \n",
       "0  MT19937_13:19:00.345293_1  0.183198  0.01  0.002966   NaN  \n",
       "1  MT19937_13:19:00.348284_1  0.413241  0.01  0.013459   NaN  \n",
       "2  MT19937_13:19:00.350284_1  0.238254  0.01  0.016642   NaN  \n",
       "3  MT19937_13:19:00.352287_1  0.261087  0.01  2.179940   NaN  \n",
       "4  MT19937_13:19:00.354282_1  0.488751  0.01  0.063310   NaN  "
      ]
     },
     "execution_count": 19,
     "metadata": {},
     "output_type": "execute_result"
    }
   ],
   "source": [
    "data = pd.concat([data, Yhat])\n",
    "data.head()"
   ]
  },
  {
   "cell_type": "code",
   "execution_count": null,
   "metadata": {
    "collapsed": true
   },
   "outputs": [],
   "source": []
  }
 ],
 "metadata": {
  "kernelspec": {
   "display_name": "Python 3",
   "language": "python",
   "name": "python3"
  },
  "language_info": {
   "codemirror_mode": {
    "name": "ipython",
    "version": 3
   },
   "file_extension": ".py",
   "mimetype": "text/x-python",
   "name": "python",
   "nbconvert_exporter": "python",
   "pygments_lexer": "ipython3",
   "version": "3.5.6"
  }
 },
 "nbformat": 4,
 "nbformat_minor": 2
}
